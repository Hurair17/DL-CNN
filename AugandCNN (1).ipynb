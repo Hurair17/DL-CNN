{
  "nbformat": 4,
  "nbformat_minor": 0,
  "metadata": {
    "colab": {
      "name": "AugandCNN.ipynb",
      "provenance": [],
      "collapsed_sections": []
    },
    "kernelspec": {
      "name": "python3",
      "display_name": "Python 3"
    },
    "language_info": {
      "name": "python"
    }
  },
  "cells": [
    {
      "cell_type": "markdown",
      "metadata": {
        "id": "rzo5IzZNp3bq"
      },
      "source": [
        "Data augmentation"
      ]
    },
    {
      "cell_type": "code",
      "metadata": {
        "id": "S_lpGiVxWy69"
      },
      "source": [
        "import numpy as np\n",
        "from skimage import io\n",
        "import os\n",
        "from PIL import Image\n",
        "from keras.preprocessing.image import ImageDataGenerator\n",
        "from skimage import io\n",
        "\n",
        "# Construct an instance of the ImageDataGenerator class\n",
        "# Pass the augmentation parameters through the constructor. \n",
        "\n",
        "datagen = ImageDataGenerator(\n",
        "        rotation_range=45,     #Random rotation between 0 and 45\n",
        "        width_shift_range=0.5,   #% shift\n",
        "        height_shift_range=0.5,\n",
        "        shear_range=0.5,\n",
        "        zoom_range=0.4,\n",
        "        horizontal_flip=True,\n",
        "        vertical_flip=True,\n",
        "\n",
        "        fill_mode='nearest'\n",
        "        ) \n",
        "\n",
        "image_directory = '/content/drive/MyDrive/Data/skin_data/ActualData/train/notmelanoma/'\n",
        "SIZE = 320\n",
        "dataset = []\n",
        "\n",
        "my_images = os.listdir(image_directory)\n",
        "for i, image_name in enumerate(my_images):\n",
        "    if (image_name.split('.')[1] == 'jpg'):\n",
        "        image = io.imread(image_directory + image_name)\n",
        "        image = Image.fromarray(image, 'RGB')\n",
        "        image = image.resize((SIZE,SIZE))\n",
        "        dataset.append(np.array(image))\n",
        "#         print('image')\n",
        "x = np.array(dataset)"
      ],
      "execution_count": null,
      "outputs": []
    },
    {
      "cell_type": "code",
      "metadata": {
        "id": "tDGpco_UXGFT"
      },
      "source": [
        "i = 0\n",
        "for batch in datagen.flow(x, batch_size=64,  \n",
        "                          save_to_dir='/content/drive/MyDrive/Data/skin_data/Augmented/Train/notmelanoma', \n",
        "                          save_prefix='aug', \n",
        "                          save_format='jpg'):\n",
        "    i += 1\n",
        "    if i > 40:\n",
        "        break\n"
      ],
      "execution_count": null,
      "outputs": []
    },
    {
      "cell_type": "markdown",
      "metadata": {
        "id": "u4L9fpwrp-FQ"
      },
      "source": [
        "Convolutional Neural Network"
      ]
    },
    {
      "cell_type": "code",
      "metadata": {
        "id": "zh-NtTGZYq_q"
      },
      "source": [
        "import tensorflow as tf\n",
        "import matplotlib.pyplot as plt\n",
        "import tensorflow\n",
        "from tensorflow.keras.preprocessing.image import ImageDataGenerator\n",
        "from tensorflow.keras.models import Sequential\n",
        "from keras.layers import Activation, Dropout, Flatten, Dense,LeakyReLU,MaxPool2D\n",
        "from keras.layers import Conv2D,MaxPooling2D\n",
        "from keras import backend as k\n",
        "from keras.preprocessing import image\n",
        "import numpy as np\n",
        "from tensorflow.keras.optimizers import Adam,RMSprop\n",
        "import cv2\n",
        "import os\n",
        "from tensorflow.keras import regularizers\n",
        "train_path='/content/drive/MyDrive/Data/skin_data/Augmented/Train'\n",
        "test_path = '/content/drive/MyDrive/Data/skin_data/Augmented/Val'\n",
        "target_size=(150,150)\n"
      ],
      "execution_count": null,
      "outputs": []
    },
    {
      "cell_type": "code",
      "metadata": {
        "id": "RTeVlJ_Fq58f"
      },
      "source": [
        "train = ImageDataGenerator(\n",
        "    \n",
        "    width_shift_range= 0.2, height_shift_range= 0.2,\n",
        "    rotation_range= 90, rescale = 1/255,\n",
        "    horizontal_flip= True, vertical_flip=True,\n",
        ")\n",
        "\n",
        "validation = ImageDataGenerator(\n",
        "    rescale = 1/255,\n",
        "    horizontal_flip = True,\n",
        "\n",
        "\n",
        ")\n",
        "train_dataset = train.flow_from_directory(\n",
        "    train_path,\n",
        "    target_size,\n",
        "    batch_size = 32,\n",
        "    color_mode=\"rgb\",\n",
        "    class_mode = 'binary'\n",
        "     \n",
        " )\n",
        "test_dataset = validation.flow_from_directory(\n",
        "    test_path,\n",
        "    target_size,\n",
        "    batch_size = 32,\n",
        "    color_mode=\"rgb\",\n",
        "    class_mode = 'binary'\n",
        ")"
      ],
      "execution_count": null,
      "outputs": []
    },
    {
      "cell_type": "code",
      "metadata": {
        "id": "O1w4Zu3eq6ht"
      },
      "source": [
        "model = Sequential()\n",
        "model.add(Conv2D(32,(3,3),input_shape=(150,150,3)))\n",
        "model.add(Activation('relu'))\n",
        "model.add(MaxPooling2D(pool_size=(2,2)))\n",
        "\n",
        "model.add(Conv2D(64,(3,3)))\n",
        "model.add(Activation('relu'))\n",
        "model.add(MaxPooling2D(pool_size=(2,2)))\n",
        "\n",
        "model.add(Conv2D(128,(3,3)))\n",
        "model.add(Activation('relu'))\n",
        "model.add(MaxPooling2D(pool_size=(2,2)))\n",
        "\n",
        "model.add(Flatten())\n",
        "model.add(Dense(32))\n",
        "model.add(Activation('relu'))\n",
        "model.add(Dropout(0.5))\n",
        "model.add(Dense(1))\n",
        "model.add(Activation('sigmoid'))\n",
        "\n",
        "opt =Adam(lr=0.0001)\n",
        "\n",
        "model.summary()\n",
        "model.compile(loss='binary_crossentropy',\n",
        "              optimizer=opt,\n",
        "              metrics =['accuracy'] )\n"
      ],
      "execution_count": null,
      "outputs": []
    },
    {
      "cell_type": "code",
      "metadata": {
        "id": "TIDaTAcaq7N7"
      },
      "source": [
        "history = model.fit(\n",
        "    train_dataset,\n",
        "    steps_per_epoch = 6,\n",
        "    epochs = 50,\n",
        "    validation_data = test_dataset,\n",
        "    validation_steps = 32,\n",
        "    # callbacks=[early_stopping]\n",
        ")"
      ],
      "execution_count": null,
      "outputs": []
    },
    {
      "cell_type": "code",
      "metadata": {
        "id": "4Qc06wE-umpY"
      },
      "source": [
        "import os\n",
        "y_actual = []\n",
        "y_test = []\n",
        "valMelnoma = '/content/drive/MyDrive/Data/skin_data/Augmented/Val/melanoma/'\n",
        "valNot = '/content/drive/MyDrive/Data/skin_data/Augmented/Val/notmelanoma/'\n",
        "\n",
        "for i in os.listdir(valMelnoma):\n",
        "  rslt =[]\n",
        "  img = image.load_img(valMelnoma+'/'+i,target_size=(150,150))\n",
        "  img = image.img_to_array(img)\n",
        "  img = np.expand_dims(img,axis=0)\n",
        "  ##############\n",
        "  rslt = model.predict(img)\n",
        "  rslt = np.round(rslt)\n",
        "  rslt = np.array(rslt).astype(int)\n",
        "  y_test.append(rslt[0,0])\n",
        "\n",
        "  y_actual.append(0)\n",
        "  \n",
        "  \n",
        "for i in os.listdir(valNot):\n",
        "  rslt =[]\n",
        "  img = image.load_img(valNot+\"/\"+i,target_size=(150,150))\n",
        "  img = image.img_to_array(img)\n",
        "  img = np.expand_dims(img,axis=0)\n",
        "  ##############\n",
        "  rslt = model.predict(img)\n",
        "  rslt = np.round(rslt)\n",
        "  rslt = np.array(rslt).astype(int)\n",
        "  y_test.append(rslt[0,0])\n",
        "  y_actual.append(1)\n"
      ],
      "execution_count": null,
      "outputs": []
    },
    {
      "cell_type": "code",
      "metadata": {
        "id": "wwGEH5Ja0Z7S"
      },
      "source": [
        "y_actual = np.array(y_actual).astype(int)\n",
        "y_test = np.array(y_test).astype(int)\n",
        "\n",
        "y_test\n"
      ],
      "execution_count": null,
      "outputs": []
    },
    {
      "cell_type": "code",
      "metadata": {
        "id": "s4GPfSQ2jWHB"
      },
      "source": [
        "from sklearn.metrics import confusion_matrix\n",
        "cm = confusion_matrix(y_test,y_actual) \n",
        "cm\n"
      ],
      "execution_count": null,
      "outputs": []
    },
    {
      "cell_type": "code",
      "metadata": {
        "id": "uMN8XU3xjW3P"
      },
      "source": [
        "def plot_confusion_matrix(cm, classes,\n",
        "                          normalize=False,\n",
        "                          title='Confusion matrix',\n",
        "                          cmap=plt.cm.Blues):\n",
        "    \"\"\"\n",
        "    This function prints and plots the confusion matrix.\n",
        "    Normalization can be applied by setting `normalize=True`.\n",
        "    \"\"\"\n",
        "    plt.imshow(cm, interpolation='nearest', cmap=cmap)\n",
        "    plt.title(title)\n",
        "    plt.colorbar()\n",
        "    tick_marks = np.arange(len(classes))\n",
        "    plt.xticks(tick_marks, classes, rotation=45)\n",
        "    plt.yticks(tick_marks, classes)\n",
        "    if normalize:\n",
        "        cm = cm.astype('float') / cm.sum(axis=1)[:, np.newaxis]\n",
        "        print(\"Normalized confusion matrix\")\n",
        "    else:\n",
        "      print('Confusion matrix, without normalization')\n",
        "      print(cm)\n",
        "    thresh = cm.max() / 2.\n",
        "    for i, j in itertools.product(range(cm.shape[0]), range(cm.shape[1])):\n",
        "        plt.text(j, i, cm[i, j],\n",
        "            horizontalalignment=\"center\",\n",
        "            color=\"white\" if cm[i, j] > thresh else \"black\")\n",
        "    plt.tight_layout()\n",
        "    plt.ylabel('True label')\n",
        "    plt.xlabel('Predicted label')\n"
      ],
      "execution_count": null,
      "outputs": []
    },
    {
      "cell_type": "code",
      "metadata": {
        "id": "mAR6hStHjfp9"
      },
      "source": [
        "from mlxtend.plotting import plot_confusion_matrix\n",
        "fig, ax = plot_confusion_matrix(conf_mat = cm, figsize = ( 6 , 6 ), cmap = plt.cm.Blues)\n",
        "plt.xlabel( 'Predictions' , fontsize = 18 ) \n",
        "plt.ylabel( 'Actuals' , fontsize = 18 )\n",
        "plt.title( 'Confusion Matrix' , fontsize = 18 ) \n",
        "plt.show()\n"
      ],
      "execution_count": null,
      "outputs": []
    },
    {
      "cell_type": "code",
      "metadata": {
        "id": "GgGI6900jgT8"
      },
      "source": [
        "from sklearn.metrics import  classification_report\n",
        "print(classification_report(y_test,y_actual))"
      ],
      "execution_count": null,
      "outputs": []
    },
    {
      "cell_type": "code",
      "metadata": {
        "id": "JOvVmQkujnHQ"
      },
      "source": [
        ""
      ],
      "execution_count": null,
      "outputs": []
    }
  ]
}